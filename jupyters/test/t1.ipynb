{
 "cells": [
  {
   "cell_type": "code",
   "execution_count": 2,
   "id": "3542bcbf",
   "metadata": {},
   "outputs": [],
   "source": [
    "import numpy as np\n",
    "from scipy.stats import t"
   ]
  },
  {
   "cell_type": "code",
   "execution_count": 3,
   "id": "abe255be",
   "metadata": {},
   "outputs": [
    {
     "data": {
      "text/plain": [
       "np.float64(3.1298431857438094)"
      ]
     },
     "execution_count": 3,
     "metadata": {},
     "output_type": "execute_result"
    }
   ],
   "source": [
    "(7.4 - 7)/(0.7/np.sqrt(30))"
   ]
  },
  {
   "cell_type": "code",
   "execution_count": 10,
   "id": "40d15a52",
   "metadata": {},
   "outputs": [
    {
     "data": {
      "text/plain": [
       "0.12780193008453875"
      ]
     },
     "execution_count": 10,
     "metadata": {},
     "output_type": "execute_result"
    }
   ],
   "source": [
    "a = 0.7 / 30**0.5\n",
    "a"
   ]
  },
  {
   "cell_type": "code",
   "execution_count": 11,
   "id": "2777c667",
   "metadata": {},
   "outputs": [
    {
     "data": {
      "text/plain": [
       "3.1298431857438067"
      ]
     },
     "execution_count": 11,
     "metadata": {},
     "output_type": "execute_result"
    }
   ],
   "source": [
    "0.4 /a"
   ]
  }
 ],
 "metadata": {
  "kernelspec": {
   "display_name": "shioru",
   "language": "python",
   "name": "python3"
  },
  "language_info": {
   "codemirror_mode": {
    "name": "ipython",
    "version": 3
   },
   "file_extension": ".py",
   "mimetype": "text/x-python",
   "name": "python",
   "nbconvert_exporter": "python",
   "pygments_lexer": "ipython3",
   "version": "3.11.13"
  }
 },
 "nbformat": 4,
 "nbformat_minor": 5
}
