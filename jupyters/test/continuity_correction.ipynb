{
 "cells": [
  {
   "cell_type": "markdown",
   "id": "5bd5dc47",
   "metadata": {
    "vscode": {
     "languageId": "plaintext"
    }
   },
   "source": [
    "# 連続修正"
   ]
  },
  {
   "cell_type": "code",
   "execution_count": 4,
   "id": "9f387bdb",
   "metadata": {},
   "outputs": [],
   "source": [
    "from shiori.utils.viewer import set_plot_params, sns, plt\n",
    "from shiori.utils.path import ProjectPath\n",
    "from pathlib import Path\n",
    "import numpy as np\n",
    "set_plot_params()\n",
    "name = Path().cwd().name + \"/continuity_crrection\"\n",
    "proj = ProjectPath(save_dst=name)\n",
    "save_dir = proj.save_dir\n",
    "save_dir.mkdir(parents=True, exist_ok=True)\n",
    "plt.rcParams.update({\n",
    "    \"text.usetex\": True,               # LaTeXを使う\n",
    "    \"font.family\": \"Arial\",            # セリフ体\n",
    "    \"font.serif\": [\"Computer Modern\"], # LaTeX標準フォント\n",
    "})\n"
   ]
  },
  {
   "cell_type": "code",
   "execution_count": 14,
   "id": "78390472",
   "metadata": {},
   "outputs": [
    {
     "data": {
      "text/plain": [
       "(20.0, 3.1622776601683795)"
      ]
     },
     "execution_count": 14,
     "metadata": {},
     "output_type": "execute_result"
    }
   ],
   "source": [
    "from math import comb, sqrt\n",
    "from math import erf\n",
    "\n",
    "# ==== 基本関数 ====\n",
    "def normal_cdf(z):  # Φ(z)\n",
    "    return 0.5 * (1 + erf(z / np.sqrt(2)))\n",
    "\n",
    "def binom_pmf(n, p):\n",
    "    k = np.arange(n + 1)\n",
    "    pmf = np.array([comb(n, ki) * (p**ki) * ((1 - p) ** (n - ki)) for ki in k], dtype=float)\n",
    "    return k, pmf\n",
    "\n",
    "def exact_tail(n, p0, x, side=\"right\"):\n",
    "    k, pmf = binom_pmf(n, p0)\n",
    "    if side == \"right\":\n",
    "        return pmf[k >= x].sum()\n",
    "    if side == \"left\":\n",
    "        return pmf[k <= x].sum()\n",
    "    # two-sided: small-probability two-tail (最小の両側確率)\n",
    "    p_obs = pmf[x]\n",
    "    return pmf[pmf <= p_obs].sum()\n",
    "\n",
    "def normal_tail(n, p0, x, side=\"right\", cc=True):\n",
    "    mu = n * p0\n",
    "    sigma = sqrt(n * p0 * (1 - p0))\n",
    "    if side == \"right\":\n",
    "        z = (x - (mu + (0.5 if cc else 0.0))) / sigma\n",
    "        return 1 - normal_cdf(z)\n",
    "    if side == \"left\":\n",
    "        z = (x - (mu - (0.5 if cc else 0.0))) / sigma\n",
    "        return normal_cdf(z)\n",
    "    # two-sided\n",
    "    # 上側は -0.5, 下側は +0.5 を使う\n",
    "    z_up = (x - (mu + (0.5 if cc else 0.0))) / sigma\n",
    "    z_lo = (x - (mu - (0.5 if cc else 0.0))) / sigma\n",
    "    # 観測がどちら側かで片側pを選び2倍\n",
    "    if x >= mu:\n",
    "        p_one = 1 - normal_cdf(z_up)\n",
    "    else:\n",
    "        p_one = normal_cdf(z_lo)\n",
    "    return 2 * p_one\n",
    "\n",
    "n=40\n",
    "p0=0.5\n",
    "x=26\n",
    "side=\"right\"\n",
    "cc=True\n",
    "\n",
    "k, pmf = binom_pmf(n, p0)\n",
    "mu = n * p0\n",
    "sigma = sqrt(n * p0 * (1 - p0))\n",
    "mu, sigma"
   ]
  },
  {
   "cell_type": "code",
   "execution_count": 47,
   "id": "bcf39722",
   "metadata": {},
   "outputs": [
    {
     "data": {
      "image/png": "[encoded data removed]",
      "text/plain": [
       "<Figure size 1200x500 with 1 Axes>"
      ]
     },
     "metadata": {},
     "output_type": "display_data"
    }
   ],
   "source": [
    "n=40\n",
    "p0=0.5\n",
    "x=14\n",
    "side=\"left\"\n",
    "cc=True\n",
    "\n",
    "k, pmf = binom_pmf(n, p0)\n",
    "mu = n * p0\n",
    "sigma = sqrt(n * p0 * (1 - p0))\n",
    "mu, sigma\n",
    "p_exact = exact_tail(n, p0, x, side)\n",
    "p_norm_cc = normal_tail(n, p0, x, side, cc=True)\n",
    "p_norm_nocc = normal_tail(n, p0, x, side, cc=False)\n",
    "\n",
    "# 図\n",
    "plt.figure(figsize=(12, 5))\n",
    "ax = plt.gca()\n",
    "# bar\n",
    "bars = ax.bar(k, pmf, width=1, align=\"center\")\n",
    "\n",
    "# x以上を着色\n",
    "for kk, rect in zip(k, bars):\n",
    "    if kk <= x:\n",
    "        rect.set_facecolor(\"orange\")  # tail\n",
    "    else:\n",
    "        rect.set_facecolor(\"0.7\")     # body (グレー)\n",
    "\n",
    "\n",
    "ax.vlines(x=x, ymin=0, ymax=0.1, color=\"red\", linestyle=\"dashed\", alpha=0.7)\n",
    "ax.vlines(x=x+0.5, ymin=0, ymax=0.1, color=\"blue\", linestyle=\"dashed\", alpha=0.7)\n",
    "\n",
    "xs = np.linspace(-0.5, n + 0.5, 2000)\n",
    "pdf = (1 / (sigma * np.sqrt(2 * np.pi))) * np.exp(-0.5 * ((xs - mu) / sigma) ** 2)\n",
    "ax.plot(xs, pdf, color=\"blue\", alpha=0.7, label=\"Normal approx.\", linewidth=1)\n",
    "\n",
    "ax.set_xlabel(\"$x$\")\n",
    "ax.set_ylabel(\"Probability\")\n",
    "ax.set_xlim(10, 18)\n",
    "\n",
    "plt.legend()\n",
    "\n",
    "plt.show()"
   ]
  },
  {
   "cell_type": "code",
   "execution_count": 37,
   "id": "df6fb3c2",
   "metadata": {},
   "outputs": [],
   "source": [
    "from math import comb, sqrt\n",
    "from math import erf"
   ]
  },
  {
   "cell_type": "code",
   "execution_count": 38,
   "id": "54008667",
   "metadata": {},
   "outputs": [
    {
     "ename": "TypeError",
     "evalue": "math.erf() takes exactly one argument (0 given)",
     "output_type": "error",
     "traceback": [
      "\u001b[31m---------------------------------------------------------------------------\u001b[39m",
      "\u001b[31mTypeError\u001b[39m                                 Traceback (most recent call last)",
      "\u001b[36mCell\u001b[39m\u001b[36m \u001b[39m\u001b[32mIn[38]\u001b[39m\u001b[32m, line 1\u001b[39m\n\u001b[32m----> \u001b[39m\u001b[32m1\u001b[39m \u001b[43merf\u001b[49m\u001b[43m(\u001b[49m\u001b[43m)\u001b[49m\n",
      "\u001b[31mTypeError\u001b[39m: math.erf() takes exactly one argument (0 given)"
     ]
    }
   ],
   "source": [
    "erf()"
   ]
  }
 ],
 "metadata": {
  "kernelspec": {
   "display_name": "shioru (3.11.13)",
   "language": "python",
   "name": "python3"
  },
  "language_info": {
   "codemirror_mode": {
    "name": "ipython",
    "version": 3
   },
   "file_extension": ".py",
   "mimetype": "text/x-python",
   "name": "python",
   "nbconvert_exporter": "python",
   "pygments_lexer": "ipython3",
   "version": "3.11.13"
  }
 },
 "nbformat": 4,
 "nbformat_minor": 5
}
