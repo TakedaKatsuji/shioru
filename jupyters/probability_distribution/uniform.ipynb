{
 "cells": [
  {
   "cell_type": "markdown",
   "id": "860a8c9d",
   "metadata": {
    "vscode": {
     "languageId": "plaintext"
    }
   },
   "source": [
    "# 一様分布の性質"
   ]
  },
  {
   "cell_type": "code",
   "execution_count": 1,
   "id": "5206e123",
   "metadata": {},
   "outputs": [],
   "source": [
    "from shiori.utils.viewer import set_plot_params, sns, plt\n",
    "from shiori.utils.path import ProjectPath\n",
    "from pathlib import Path\n",
    "import numpy as np\n",
    "set_plot_params()"
   ]
  },
  {
   "cell_type": "code",
   "execution_count": 30,
   "id": "80ef9e75",
   "metadata": {},
   "outputs": [],
   "source": [
    "name = Path().cwd().name + \"/uniform\"\n",
    "proj = ProjectPath(save_dst=name)\n",
    "save_dir = proj.save_dir"
   ]
  },
  {
   "cell_type": "code",
   "execution_count": 28,
   "id": "f716de91",
   "metadata": {},
   "outputs": [],
   "source": [
    "plt.rcParams.update({\n",
    "    \"text.usetex\": True,               # LaTeXを使う\n",
    "    \"font.family\": \"Arial\",            # セリフ体\n",
    "    \"font.serif\": [\"Computer Modern\"], # LaTeX標準フォント\n",
    "})\n"
   ]
  },
  {
   "cell_type": "markdown",
   "id": "e74fe5ea",
   "metadata": {},
   "source": [
    "# PDF"
   ]
  },
  {
   "cell_type": "code",
   "execution_count": 41,
   "id": "22005e87",
   "metadata": {},
   "outputs": [
    {
     "data": {
      "image/png": "[encoded data removed]",
      "text/plain": [
       "<Figure size 600x400 with 1 Axes>"
      ]
     },
     "metadata": {},
     "output_type": "display_data"
    }
   ],
   "source": [
    "# 区間 [a, b]\n",
    "a, b = 0, 5\n",
    "\n",
    "# x の範囲\n",
    "x = np.linspace(-1, 6, 500)\n",
    "\n",
    "# 一様分布の確率密度関数\n",
    "pdf = np.where((x >= a) & (x <= b), 1/(b-a), 0)\n",
    "\n",
    "# plot\n",
    "plt.figure(figsize=(6,4))\n",
    "plt.plot(x, pdf+0.001, label=rf\"$X \\sim \\mathrm{{Uniform}}({a},{b})$\", color=\"blue\")\n",
    "plt.fill_between(x, pdf, alpha=0.2, color=\"blue\")\n",
    "\n",
    "plt.title(\"PDF of Uniform Distribution\")\n",
    "plt.xlabel(r\"$x$\")\n",
    "plt.ylabel(r\"$f(x)$\")\n",
    "plt.ylim(0, 0.3)\n",
    "plt.legend()\n",
    "plt.grid(True)\n",
    "plt.savefig(save_dir.joinpath(\"pdf.png\"), dpi=300)\n",
    "plt.show()\n"
   ]
  },
  {
   "cell_type": "code",
   "execution_count": 46,
   "id": "1841811d",
   "metadata": {},
   "outputs": [],
   "source": [
    "from matplotlib.animation import FuncAnimation, PillowWriter\n",
    "\n",
    "# 描画範囲\n",
    "x = np.linspace(-1, 10, 500)\n",
    "\n",
    "fig, ax = plt.subplots(figsize=(6,4))\n",
    "line, = ax.plot([], [], color=\"blue\")\n",
    "fill = None\n",
    "ax.set_ylim(0, 1.2)\n",
    "ax.set_xlim(-1, 10)\n",
    "ax.set_xlabel(r\"$x$\")\n",
    "ax.set_ylabel(r\"$f(x)$\")\n",
    "ax.set_title(\"PDF of Uniform Distribution\")\n",
    "\n",
    "def init():\n",
    "    line.set_data([], [])\n",
    "    return line,\n",
    "\n",
    "def update(frame):\n",
    "    global fill\n",
    "    if fill:  # 前の塗りつぶしを消す\n",
    "        fill.remove()\n",
    "    a, b = 0, frame\n",
    "    pdf = np.where((x >= a) & (x <= b), 1/(b-a), 0)\n",
    "    line.set_data(x, pdf)\n",
    "    fill = ax.fill_between(x, pdf, alpha=0.3, color=\"blue\")\n",
    "    ax.set_title(rf\"$X \\sim \\mathrm{{Uniform}}({a},{b:.1f})$\")\n",
    "    return line, fill\n",
    "\n",
    "ani = FuncAnimation(fig, update, frames=np.linspace(1, 9, 40),\n",
    "                    init_func=init, blit=False, interval=200)\n",
    "\n",
    "# GIFに保存\n",
    "ani.save(save_dir.joinpath(\"pdf.gif\"), writer=PillowWriter(fps=5))\n",
    "plt.close()"
   ]
  }
 ],
 "metadata": {
  "kernelspec": {
   "display_name": "shioru (3.11.13)",
   "language": "python",
   "name": "python3"
  },
  "language_info": {
   "codemirror_mode": {
    "name": "ipython",
    "version": 3
   },
   "file_extension": ".py",
   "mimetype": "text/x-python",
   "name": "python",
   "nbconvert_exporter": "python",
   "pygments_lexer": "ipython3",
   "version": "3.11.13"
  }
 },
 "nbformat": 4,
 "nbformat_minor": 5
}
