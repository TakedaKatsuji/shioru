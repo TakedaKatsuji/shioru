{
 "cells": [
  {
   "cell_type": "markdown",
   "id": "2db97d2d",
   "metadata": {},
   "source": [
    "# 正規分布の条件付き分布"
   ]
  },
  {
   "cell_type": "code",
   "execution_count": 1,
   "id": "a6a1041c",
   "metadata": {},
   "outputs": [],
   "source": [
    "from shiori.utils.viewer import set_plot_params, sns, plt\n",
    "from shiori.utils.path import ProjectPath\n",
    "from pathlib import Path\n",
    "import matplotlib.animation as animation\n",
    "import numpy as np\n",
    "set_plot_params()\n",
    "name = Path().cwd().name + \"/normal_cpd\"\n",
    "proj = ProjectPath(save_dst=name)\n",
    "save_dir = proj.save_dir\n",
    "save_dir.mkdir(parents=True, exist_ok=True)\n",
    "plt.rcParams.update({\n",
    "    \"text.usetex\": True,               # LaTeXを使う\n",
    "    \"font.family\": \"Arial\",            # セリフ体\n",
    "    \"font.serif\": [\"Computer Modern\"], # LaTeX標準フォント\n",
    "})\n"
   ]
  },
  {
   "cell_type": "code",
   "execution_count": 9,
   "id": "9a3ba9ad",
   "metadata": {},
   "outputs": [
    {
     "name": "stderr",
     "output_type": "stream",
     "text": [
      "/tmp/ipykernel_1443928/1337189250.py:30: UserWarning: No artists with labels found to put in legend.  Note that artists whose label start with an underscore are ignored when legend() is called with no argument.\n",
      "  legend_cond = ax2.legend(loc=\"upper right\", fontsize=10)\n"
     ]
    },
    {
     "name": "stdout",
     "output_type": "stream",
     "text": [
      "✅ GIF saved: /home/takeda/project/shioru/src/.vuepress/public/assets/images/multivariate_distribution/normal_cpd/cpd.gif\n"
     ]
    }
   ],
   "source": [
    "# ==== パラメータ ====\n",
    "mu_X, mu_Y = 1.0, 2.0\n",
    "sigma_X, sigma_Y = 1.0, 1.5\n",
    "rho = 0.7\n",
    "cov = [[sigma_X**2, rho*sigma_X*sigma_Y],\n",
    "       [rho*sigma_X*sigma_Y, sigma_Y**2]]\n",
    "mean = [mu_X, mu_Y]\n",
    "\n",
    "# ==== データ生成 ====\n",
    "data = np.random.multivariate_normal(mean, cov, size=2000)\n",
    "\n",
    "# ==== figure 準備 ====\n",
    "fig, (ax1, ax2) = plt.subplots(1, 2, figsize=(10, 4))\n",
    "\n",
    "# 左: 同時分布の散布図\n",
    "sc = ax1.scatter(data[:, 0], data[:, 1], s=5, alpha=0.3, c=\"blue\")\n",
    "ax1.set_xlabel(\"X\")\n",
    "ax1.set_ylabel(\"Y\")\n",
    "ax1.set_title(\"Joint Distribution\")\n",
    "\n",
    "# 左に legend\n",
    "legend_joint = r\"$ (X,Y) \\sim \\mathcal{N}(\\mu, \\Sigma)$\"\n",
    "ax1.legend([sc], [legend_joint], loc=\"upper right\", fontsize=10)\n",
    "\n",
    "# 右: 条件付き分布 (Y|X=x)\n",
    "y_vals = np.linspace(mu_Y - 4*sigma_Y, mu_Y + 4*sigma_Y, 300)\n",
    "line_pdf, = ax2.plot([], [], color=\"red\")\n",
    "line_v = ax1.axvline(mu_X, color=\"red\", linestyle=\"--\")\n",
    "title_pdf = ax2.set_title(\"\")\n",
    "legend_cond = ax2.legend(loc=\"upper right\", fontsize=10)\n",
    "ax2.set_xlim(y_vals.min(), y_vals.max())\n",
    "ax2.set_ylim(0, 0.5)\n",
    "ax2.set_xlabel(\"Y\")\n",
    "ax2.set_ylabel(\"Density\")\n",
    "\n",
    "# ==== アニメーション用のX値 ====\n",
    "x_vals = np.linspace(mu_X - 2*sigma_X, mu_X + 2*sigma_X, 30)\n",
    "\n",
    "def init():\n",
    "    line_pdf.set_data([], [])\n",
    "    line_v.set_xdata([mu_X, mu_X])\n",
    "    title_pdf.set_text(\"\")\n",
    "    return line_pdf, line_v, title_pdf, legend_cond\n",
    "\n",
    "def update(i):\n",
    "    x = x_vals[i]\n",
    "    cond_mean = mu_Y + rho * (sigma_Y/sigma_X) * (x - mu_X)\n",
    "    cond_var = sigma_Y**2 * (1 - rho**2)\n",
    "    cond_std = np.sqrt(cond_var)\n",
    "    pdf = (1/(cond_std*np.sqrt(2*np.pi))) * np.exp(-(y_vals-cond_mean)**2/(2*cond_var))\n",
    "    \n",
    "    line_pdf.set_data(y_vals, pdf)\n",
    "    line_v.set_xdata([x, x])\n",
    "    title_pdf.set_text(rf\"$Y|X={x:.2f}$\")\n",
    "\n",
    "    # legend 更新\n",
    "    legend_label = rf\"$Y|X \\sim \\mathcal{{N}}({cond_mean:.2f}, {cond_var:.2f})$\"\n",
    "    legend_cond = ax2.legend([line_pdf], [legend_label], loc=\"upper right\", fontsize=10)\n",
    "\n",
    "    return line_pdf, line_v, title_pdf, legend_cond\n",
    "\n",
    "# ==== アニメーション作成 ====\n",
    "ani = animation.FuncAnimation(\n",
    "    fig, update, frames=len(x_vals), init_func=init,\n",
    "    blit=True, interval=200, repeat=True\n",
    ")\n",
    "\n",
    "# ==== 保存 ====\n",
    "ani.save(\n",
    "    save_dir.joinpath(\"cpd.gif\"),\n",
    "    writer=\"pillow\",\n",
    "    dpi=200,   # 解像度\n",
    "    fps=10\n",
    ")\n",
    "\n",
    "plt.close()\n",
    "print(\"✅ GIF saved:\", save_dir.joinpath(\"cpd.gif\"))\n"
   ]
  }
 ],
 "metadata": {
  "kernelspec": {
   "display_name": "shioru (3.11.13)",
   "language": "python",
   "name": "python3"
  },
  "language_info": {
   "codemirror_mode": {
    "name": "ipython",
    "version": 3
   },
   "file_extension": ".py",
   "mimetype": "text/x-python",
   "name": "python",
   "nbconvert_exporter": "python",
   "pygments_lexer": "ipython3",
   "version": "3.11.13"
  }
 },
 "nbformat": 4,
 "nbformat_minor": 5
}
