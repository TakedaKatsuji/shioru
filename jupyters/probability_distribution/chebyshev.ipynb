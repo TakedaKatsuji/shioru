{
 "cells": [
  {
   "cell_type": "markdown",
   "id": "e1d158fa",
   "metadata": {},
   "source": [
    "# チェビシェフの不等式"
   ]
  },
  {
   "cell_type": "code",
   "execution_count": 34,
   "id": "b4bcd900",
   "metadata": {},
   "outputs": [],
   "source": [
    "from shiori.utils.viewer import set_plot_params, sns, plt\n",
    "from shiori.utils.path import ProjectPath\n",
    "from pathlib import Path\n",
    "import numpy as np\n",
    "from matplotlib import animation\n",
    "from math import gamma\n",
    "from scipy.stats import chi2\n",
    "import math\n",
    "import polars as pl\n",
    "from itertools import chain\n",
    "set_plot_params()\n",
    "name = Path().cwd().name + \"/chebyshev\"\n",
    "proj = ProjectPath(save_dst=name)\n",
    "save_dir = proj.save_dir\n",
    "save_dir.mkdir(parents=True, exist_ok=True)\n",
    "plt.rcParams.update({\n",
    "    \"text.usetex\": True,               # LaTeXを使う\n",
    "    \"font.family\": \"Arial\",            # セリフ体\n",
    "    \"font.serif\": [\"Computer Modern\"], # LaTeX標準フォント\n",
    "})\n"
   ]
  },
  {
   "cell_type": "code",
   "execution_count": 11,
   "id": "017e3ce5",
   "metadata": {},
   "outputs": [],
   "source": [
    "\n",
    "df = pl.read_csv(\"./r5_math2B.csv\")"
   ]
  },
  {
   "cell_type": "code",
   "execution_count": 30,
   "id": "99bcf3ed",
   "metadata": {},
   "outputs": [],
   "source": [
    "point_arr = df[\"point\"].to_list()\n",
    "n_arr = df[\"n\"].to_list()"
   ]
  },
  {
   "cell_type": "code",
   "execution_count": 40,
   "id": "b7218c93",
   "metadata": {},
   "outputs": [
    {
     "data": {
      "text/plain": [
       "(np.float64(61.482735975347936), np.float64(20.176748738716714))"
      ]
     },
     "execution_count": 40,
     "metadata": {},
     "output_type": "execute_result"
    }
   ],
   "source": [
    "data = []\n",
    "for point, n in zip(point_arr, n_arr):\n",
    "    data.append([point]*n)\n",
    "data = np.array(list(chain.from_iterable(data)))\n",
    "data.mean(), data.std()"
   ]
  },
  {
   "cell_type": "code",
   "execution_count": 50,
   "id": "84d5bfe4",
   "metadata": {},
   "outputs": [
    {
     "data": {
      "text/plain": [
       "316728"
      ]
     },
     "execution_count": 50,
     "metadata": {},
     "output_type": "execute_result"
    }
   ],
   "source": [
    "len(data)"
   ]
  },
  {
   "cell_type": "code",
   "execution_count": 60,
   "id": "d32b559a",
   "metadata": {},
   "outputs": [
    {
     "data": {
      "image/png": "[encoded data removed]",
      "text/plain": [
       "<Figure size 640x480 with 1 Axes>"
      ]
     },
     "metadata": {},
     "output_type": "display_data"
    }
   ],
   "source": [
    "# 平均と標準偏差\n",
    "mu = float(np.mean(data))\n",
    "sigma = float(np.std(data, ddof=0))  # 標本で不偏なら ddof=1\n",
    "\n",
    "# ヒストグラム\n",
    "sns.histplot(data, bins=101)\n",
    "\n",
    "# 縦線: 平均, 平均±2σ\n",
    "plt.axvline(mu, linestyle=\"--\", linewidth=1.5, label=\"$\\mu$\", color=\"blue\")\n",
    "plt.axvline(mu - 2*sigma, linestyle=\"--\", linewidth=1.2, label=\"$\\mu-2\\sigma$\", color=\"blue\")\n",
    "plt.axvline(mu + 2*sigma, linestyle=\"--\", linewidth=1.2, label=\"$\\mu+2\\sigma$\", color=\"blue\")\n",
    "\n",
    "plt.title(\"Histogram\")\n",
    "plt.xlabel(\"point\")\n",
    "plt.legend()\n",
    "\n",
    "plt.savefig(save_dir.joinpath(\"hist.png\"), dpi=300, facecolor=\"white\")\n",
    "plt.show()"
   ]
  },
  {
   "cell_type": "code",
   "execution_count": 77,
   "id": "cee2fd5d",
   "metadata": {},
   "outputs": [
    {
     "data": {
      "text/plain": [
       "(3.463855421686747, 61.482735975347936, 20.176748738716714)"
      ]
     },
     "execution_count": 77,
     "metadata": {},
     "output_type": "execute_result"
    }
   ],
   "source": [
    "n = len(data[data<=mu - 2*sigma])\n",
    "n/len(data)*100, mu, sigma"
   ]
  }
 ],
 "metadata": {
  "kernelspec": {
   "display_name": "shioru",
   "language": "python",
   "name": "python3"
  },
  "language_info": {
   "codemirror_mode": {
    "name": "ipython",
    "version": 3
   },
   "file_extension": ".py",
   "mimetype": "text/x-python",
   "name": "python",
   "nbconvert_exporter": "python",
   "pygments_lexer": "ipython3",
   "version": "3.11.13"
  }
 },
 "nbformat": 4,
 "nbformat_minor": 5
}
